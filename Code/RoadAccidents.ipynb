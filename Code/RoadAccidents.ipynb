{
 "cells": [
  {
   "cell_type": "code",
   "execution_count": null,
   "metadata": {},
   "outputs": [
    {
     "name": "stdout",
     "output_type": "stream",
     "text": [
      "Setup Complete\n"
     ]
    }
   ],
   "source": [
    "import pandas as pd\n",
    "import seaborn as sns\n",
    "import matplotlib.pyplot as plt\n",
    "from sklearn import datasets\n",
    "from sklearn.model_selection import train_test_split\n",
    "from sklearn.ensemble import RandomForestClassifier\n",
    "from sklearn.datasets import make_classification\n",
    "print('Setup Complete')"
   ]
  },
  {
   "cell_type": "code",
   "execution_count": null,
   "metadata": {},
   "outputs": [
    {
     "data": {
      "text/html": [
       "<div>\n",
       "<style scoped>\n",
       "    .dataframe tbody tr th:only-of-type {\n",
       "        vertical-align: middle;\n",
       "    }\n",
       "\n",
       "    .dataframe tbody tr th {\n",
       "        vertical-align: top;\n",
       "    }\n",
       "\n",
       "    .dataframe thead th {\n",
       "        text-align: right;\n",
       "    }\n",
       "</style>\n",
       "<table border=\"1\" class=\"dataframe\">\n",
       "  <thead>\n",
       "    <tr style=\"text-align: right;\">\n",
       "      <th></th>\n",
       "      <th>Age_band_of_driver</th>\n",
       "      <th>Sex_of_driver</th>\n",
       "      <th>Educational_level</th>\n",
       "      <th>Vehicle_driver_relation</th>\n",
       "      <th>Driving_experience</th>\n",
       "      <th>Lanes_or_Medians</th>\n",
       "      <th>Types_of_Junction</th>\n",
       "      <th>Road_surface_type</th>\n",
       "      <th>Light_conditions</th>\n",
       "      <th>Weather_conditions</th>\n",
       "      <th>Type_of_collision</th>\n",
       "      <th>Vehicle_movement</th>\n",
       "      <th>Pedestrian_movement</th>\n",
       "      <th>Cause_of_accident</th>\n",
       "      <th>Accident_severity</th>\n",
       "    </tr>\n",
       "  </thead>\n",
       "  <tbody>\n",
       "    <tr>\n",
       "      <th>0</th>\n",
       "      <td>18-30</td>\n",
       "      <td>Male</td>\n",
       "      <td>Above high school</td>\n",
       "      <td>Employee</td>\n",
       "      <td>1-2yr</td>\n",
       "      <td>Unknown</td>\n",
       "      <td>No junction</td>\n",
       "      <td>Asphalt roads</td>\n",
       "      <td>Daylight</td>\n",
       "      <td>Normal</td>\n",
       "      <td>Collision with roadside-parked vehicles</td>\n",
       "      <td>Going straight</td>\n",
       "      <td>Not a Pedestrian</td>\n",
       "      <td>Moving Backward</td>\n",
       "      <td>2</td>\n",
       "    </tr>\n",
       "    <tr>\n",
       "      <th>1</th>\n",
       "      <td>31-50</td>\n",
       "      <td>Male</td>\n",
       "      <td>Junior high school</td>\n",
       "      <td>Employee</td>\n",
       "      <td>Above 10yr</td>\n",
       "      <td>Undivided Two way</td>\n",
       "      <td>No junction</td>\n",
       "      <td>Asphalt roads</td>\n",
       "      <td>Daylight</td>\n",
       "      <td>Normal</td>\n",
       "      <td>Vehicle with vehicle collision</td>\n",
       "      <td>Going straight</td>\n",
       "      <td>Not a Pedestrian</td>\n",
       "      <td>Overtaking</td>\n",
       "      <td>2</td>\n",
       "    </tr>\n",
       "    <tr>\n",
       "      <th>2</th>\n",
       "      <td>18-30</td>\n",
       "      <td>Male</td>\n",
       "      <td>Junior high school</td>\n",
       "      <td>Employee</td>\n",
       "      <td>1-2yr</td>\n",
       "      <td>other</td>\n",
       "      <td>No junction</td>\n",
       "      <td>Asphalt roads</td>\n",
       "      <td>Daylight</td>\n",
       "      <td>Normal</td>\n",
       "      <td>Collision with roadside objects</td>\n",
       "      <td>Going straight</td>\n",
       "      <td>Not a Pedestrian</td>\n",
       "      <td>Changing lane to the left</td>\n",
       "      <td>1</td>\n",
       "    </tr>\n",
       "    <tr>\n",
       "      <th>3</th>\n",
       "      <td>18-30</td>\n",
       "      <td>Male</td>\n",
       "      <td>Junior high school</td>\n",
       "      <td>Employee</td>\n",
       "      <td>5-10yr</td>\n",
       "      <td>other</td>\n",
       "      <td>Y Shape</td>\n",
       "      <td>Earth roads</td>\n",
       "      <td>Darkness - lights lit</td>\n",
       "      <td>Normal</td>\n",
       "      <td>Vehicle with vehicle collision</td>\n",
       "      <td>Going straight</td>\n",
       "      <td>Not a Pedestrian</td>\n",
       "      <td>Changing lane to the right</td>\n",
       "      <td>2</td>\n",
       "    </tr>\n",
       "    <tr>\n",
       "      <th>4</th>\n",
       "      <td>18-30</td>\n",
       "      <td>Male</td>\n",
       "      <td>Junior high school</td>\n",
       "      <td>Employee</td>\n",
       "      <td>2-5yr</td>\n",
       "      <td>other</td>\n",
       "      <td>Y Shape</td>\n",
       "      <td>Asphalt roads</td>\n",
       "      <td>Darkness - lights lit</td>\n",
       "      <td>Normal</td>\n",
       "      <td>Vehicle with vehicle collision</td>\n",
       "      <td>Going straight</td>\n",
       "      <td>Not a Pedestrian</td>\n",
       "      <td>Overtaking</td>\n",
       "      <td>2</td>\n",
       "    </tr>\n",
       "  </tbody>\n",
       "</table>\n",
       "</div>"
      ],
      "text/plain": [
       "  Age_band_of_driver Sex_of_driver   Educational_level  \\\n",
       "0              18-30          Male   Above high school   \n",
       "1              31-50          Male  Junior high school   \n",
       "2              18-30          Male  Junior high school   \n",
       "3              18-30          Male  Junior high school   \n",
       "4              18-30          Male  Junior high school   \n",
       "\n",
       "  Vehicle_driver_relation Driving_experience   Lanes_or_Medians  \\\n",
       "0                Employee              1-2yr            Unknown   \n",
       "1                Employee         Above 10yr  Undivided Two way   \n",
       "2                Employee              1-2yr              other   \n",
       "3                Employee             5-10yr              other   \n",
       "4                Employee              2-5yr              other   \n",
       "\n",
       "  Types_of_Junction Road_surface_type       Light_conditions  \\\n",
       "0       No junction     Asphalt roads               Daylight   \n",
       "1       No junction     Asphalt roads               Daylight   \n",
       "2       No junction     Asphalt roads               Daylight   \n",
       "3           Y Shape       Earth roads  Darkness - lights lit   \n",
       "4           Y Shape     Asphalt roads  Darkness - lights lit   \n",
       "\n",
       "  Weather_conditions                        Type_of_collision  \\\n",
       "0             Normal  Collision with roadside-parked vehicles   \n",
       "1             Normal           Vehicle with vehicle collision   \n",
       "2             Normal          Collision with roadside objects   \n",
       "3             Normal           Vehicle with vehicle collision   \n",
       "4             Normal           Vehicle with vehicle collision   \n",
       "\n",
       "  Vehicle_movement Pedestrian_movement           Cause_of_accident  \\\n",
       "0   Going straight    Not a Pedestrian             Moving Backward   \n",
       "1   Going straight    Not a Pedestrian                  Overtaking   \n",
       "2   Going straight    Not a Pedestrian   Changing lane to the left   \n",
       "3   Going straight    Not a Pedestrian  Changing lane to the right   \n",
       "4   Going straight    Not a Pedestrian                  Overtaking   \n",
       "\n",
       "   Accident_severity  \n",
       "0                  2  \n",
       "1                  2  \n",
       "2                  1  \n",
       "3                  2  \n",
       "4                  2  "
      ]
     },
     "execution_count": 198,
     "metadata": {},
     "output_type": "execute_result"
    }
   ],
   "source": [
    "df = pd.read_csv(r'C:\\Users\\uniqu\\Downloads\\Coding Project Datasets\\Road Traffic Accidents Classification\\cleaned.csv')\n",
    "df.head()"
   ]
  },
  {
   "cell_type": "code",
   "execution_count": null,
   "metadata": {},
   "outputs": [
    {
     "data": {
      "text/plain": [
       "(12316, 15)"
      ]
     },
     "execution_count": 199,
     "metadata": {},
     "output_type": "execute_result"
    }
   ],
   "source": [
    "df.shape"
   ]
  },
  {
   "cell_type": "code",
   "execution_count": null,
   "metadata": {},
   "outputs": [
    {
     "name": "stdout",
     "output_type": "stream",
     "text": [
      "<class 'pandas.core.frame.DataFrame'>\n",
      "RangeIndex: 12316 entries, 0 to 12315\n",
      "Data columns (total 15 columns):\n",
      " #   Column                   Non-Null Count  Dtype \n",
      "---  ------                   --------------  ----- \n",
      " 0   Age_band_of_driver       12316 non-null  object\n",
      " 1   Sex_of_driver            12316 non-null  object\n",
      " 2   Educational_level        12316 non-null  object\n",
      " 3   Vehicle_driver_relation  12316 non-null  object\n",
      " 4   Driving_experience       12316 non-null  object\n",
      " 5   Lanes_or_Medians         12316 non-null  object\n",
      " 6   Types_of_Junction        12316 non-null  object\n",
      " 7   Road_surface_type        12316 non-null  object\n",
      " 8   Light_conditions         12316 non-null  object\n",
      " 9   Weather_conditions       12316 non-null  object\n",
      " 10  Type_of_collision        12316 non-null  object\n",
      " 11  Vehicle_movement         12316 non-null  object\n",
      " 12  Pedestrian_movement      12316 non-null  object\n",
      " 13  Cause_of_accident        12316 non-null  object\n",
      " 14  Accident_severity        12316 non-null  int64 \n",
      "dtypes: int64(1), object(14)\n",
      "memory usage: 1.4+ MB\n"
     ]
    }
   ],
   "source": [
    "df.info()"
   ]
  },
  {
   "cell_type": "code",
   "execution_count": null,
   "metadata": {},
   "outputs": [
    {
     "name": "stdout",
     "output_type": "stream",
     "text": [
      "0\n"
     ]
    }
   ],
   "source": [
    "missing_values = df.isnull().sum()\n",
    "print(missing_values.sum())"
   ]
  },
  {
   "cell_type": "code",
   "execution_count": null,
   "metadata": {},
   "outputs": [
    {
     "name": "stdout",
     "output_type": "stream",
     "text": [
      "0\n"
     ]
    }
   ],
   "source": [
    "duplicates = df.duplicated()\n",
    "print(duplicates.sum())"
   ]
  },
  {
   "cell_type": "code",
   "execution_count": null,
   "metadata": {},
   "outputs": [
    {
     "name": "stdout",
     "output_type": "stream",
     "text": [
      "Initial data info:\n",
      "<class 'pandas.core.frame.DataFrame'>\n",
      "RangeIndex: 12316 entries, 0 to 12315\n",
      "Data columns (total 15 columns):\n",
      " #   Column                   Non-Null Count  Dtype \n",
      "---  ------                   --------------  ----- \n",
      " 0   Age_band_of_driver       12316 non-null  object\n",
      " 1   Sex_of_driver            12316 non-null  object\n",
      " 2   Educational_level        12316 non-null  object\n",
      " 3   Vehicle_driver_relation  12316 non-null  object\n",
      " 4   Driving_experience       12316 non-null  object\n",
      " 5   Lanes_or_Medians         12316 non-null  object\n",
      " 6   Types_of_Junction        12316 non-null  object\n",
      " 7   Road_surface_type        12316 non-null  object\n",
      " 8   Light_conditions         12316 non-null  object\n",
      " 9   Weather_conditions       12316 non-null  object\n",
      " 10  Type_of_collision        12316 non-null  object\n",
      " 11  Vehicle_movement         12316 non-null  object\n",
      " 12  Pedestrian_movement      12316 non-null  object\n",
      " 13  Cause_of_accident        12316 non-null  object\n",
      " 14  Accident_severity        12316 non-null  int64 \n",
      "dtypes: int64(1), object(14)\n",
      "memory usage: 1.4+ MB\n",
      "None\n"
     ]
    }
   ],
   "source": [
    "df.dropna(inplace=True)\n",
    "df.drop_duplicates(inplace=True)"
   ]
  },
  {
   "cell_type": "code",
   "execution_count": null,
   "metadata": {},
   "outputs": [],
   "source": [
    "df = pd.get_dummies(df, drop_first=True)"
   ]
  },
  {
   "cell_type": "code",
   "execution_count": null,
   "metadata": {},
   "outputs": [],
   "source": [
    "X = df.drop('Accident_severity', axis=1)\n",
    "y = df['Accident_severity']\n",
    "X_train, X_test, y_train, y_test = train_test_split(X, y, test_size=0.2, random_state=42)"
   ]
  },
  {
   "cell_type": "markdown",
   "metadata": {},
   "source": [
    "# Data Visualizations"
   ]
  },
  {
   "cell_type": "code",
   "execution_count": null,
   "metadata": {},
   "outputs": [],
   "source": [
    "# Exploratory Data Analysis (EDA)\n",
    "plt.figure(figsize=(10, 5))\n",
    "sns.countplot(x='Accident_severity', data=df)\n",
    "plt.title('Accident Severity Distribution')\n",
    "plt.show()\n",
    "\n",
    "plt.figure(figsize=(10, 5))\n",
    "sns.histplot(df['Age_band_of_driver'], bins=10, kde=True)\n",
    "plt.title('Age Distribution of Drivers Involved in Accidents')\n",
    "plt.show()"
   ]
  },
  {
   "cell_type": "markdown",
   "metadata": {},
   "source": [
    "# Random Forest Modeling"
   ]
  },
  {
   "cell_type": "code",
   "execution_count": null,
   "metadata": {},
   "outputs": [
    {
     "name": "stdout",
     "output_type": "stream",
     "text": [
      "Accuracy: 0.8319362950544845\n",
      "Classification Report:\n",
      "              precision    recall  f1-score   support\n",
      "\n",
      "           0       0.50      0.03      0.06        34\n",
      "           1       0.04      0.00      0.01       345\n",
      "           2       0.84      0.99      0.91      2007\n",
      "\n",
      "    accuracy                           0.83      2386\n",
      "   macro avg       0.46      0.34      0.32      2386\n",
      "weighted avg       0.72      0.83      0.77      2386\n",
      "\n"
     ]
    }
   ],
   "source": [
    "# Train a RandomForest model\n",
    "model = RandomForestClassifier(n_estimators=100, random_state=42)\n",
    "model.fit(X_train, y_train)\n",
    "y_pred = model.predict(X_test)\n",
    "\n",
    "# Model Evaluation\n",
    "print(\"Accuracy:\", accuracy_score(y_test, y_pred))\n",
    "print(\"Classification Report:\")\n",
    "print(classification_report(y_test, y_pred))"
   ]
  }
 ],
 "metadata": {
  "kernelspec": {
   "display_name": "Python 3",
   "language": "python",
   "name": "python3"
  },
  "language_info": {
   "codemirror_mode": {
    "name": "ipython",
    "version": 3
   },
   "file_extension": ".py",
   "mimetype": "text/x-python",
   "name": "python",
   "nbconvert_exporter": "python",
   "pygments_lexer": "ipython3",
   "version": "3.13.1"
  }
 },
 "nbformat": 4,
 "nbformat_minor": 2
}
